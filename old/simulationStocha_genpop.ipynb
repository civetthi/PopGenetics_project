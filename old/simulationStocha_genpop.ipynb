{
 "cells": [
  {
   "cell_type": "code",
   "execution_count": 1,
   "id": "d7f7ceeb-101d-4de4-b0fe-afc2a28c63b0",
   "metadata": {},
   "outputs": [],
   "source": [
    "#include <iostream>\n",
    "#include <vector>\n",
    "using namespace std;"
   ]
  },
  {
   "cell_type": "code",
   "execution_count": 2,
   "id": "a1ff6491-791f-4797-998d-1b10e536f82a",
   "metadata": {},
   "outputs": [
    {
     "name": "stderr",
     "output_type": "stream",
     "text": [
      "input_line_9:3:5: error: expected '(' for function-style cast or type construction\n",
      "int p = //frequence de l'allèle avantageux A1 ou A\n",
      "~~~ ^\n",
      "input_line_9:6:19: error: expected expression\n",
      "int wAA,wAB,wBB = , , //valeurs sélectives des génotypes AA, AB et BB\n",
      "                  ^\n",
      "input_line_9:6:21: error: expected unqualified-id\n",
      "int wAA,wAB,wBB = , , //valeurs sélectives des génotypes AA, AB et BB\n",
      "                    ^\n",
      "input_line_9:6:21: error: expected ';' at end of declaration\n",
      "int wAA,wAB,wBB = , , //valeurs sélectives des génotypes AA, AB et BB\n",
      "                    ^\n",
      "                    ;\n",
      "input_line_9:7:70: error: function definition is not allowed here\n",
      "void recursion(int N, int p, int q, int T,int wAA, int wAB, int wBB) {\n",
      "                                                                     ^\n"
     ]
    },
    {
     "ename": "Interpreter Error",
     "evalue": "",
     "output_type": "error",
     "traceback": [
      "Interpreter Error: "
     ]
    }
   ],
   "source": [
    "int N = //taille de la population \n",
    "int p = //frequence de l'allèle avantageux A1 ou A\n",
    "int q = 1 - p //frequence de l'allèle A2 ou B\n",
    "int T = //le nbr de générations\n",
    "int wAA,wAB,wBB = , , //valeurs sélectives des génotypes AA, AB et BB\n",
    "\n",
    "void recursion(int N, int p, int q, int T,int wAA, int wAB, int wBB) {\n",
    "    int wbar = 0\n",
    "    int fAA, fAB, fBB = 0,0,0\n",
    "\n",
    "    for (int t = 1, t<=T, t++) { \n",
    "        fAA, fAB, fBB = p*p, 2*p*q, q*q    //calculs des génotypes des descendants\n",
    "        wbar = wAA*p^2 + wAB*p*q + wBB*q^2 //calcul de wbar\n",
    "            \n",
    "        // application de la sélection (on pourrait faire une fonction avec en param fAA... et wbar et les autres w)\n",
    "        //calcul des geno avec selection (on pourrait directmt calculer les freq all des descendants)\n",
    "        fAA = wAA*fAA /wbar\n",
    "        fAB = wAB*fAB /wbar\n",
    "        fBB = wBB*fBB /wbar\n",
    "        //calcul freq all descendants\n",
    "        p = fAA + 1/2*fAB\n",
    "        q = fBB + 1/2*fAB\n",
    "            }\n",
    "    \n",
    "}"
   ]
  },
  {
   "cell_type": "code",
   "execution_count": 3,
   "id": "0fdd7a7c-b3ff-460a-9675-1a4e217174e4",
   "metadata": {},
   "outputs": [],
   "source": [
    "int main(){\n",
    "\n",
    "\n",
    "int N = 1000; //taille de la population \n",
    "float p = 0.5; //frequence de l'allèle avantageux A1 ou A\n",
    "float q = 1 - p; //frequence de l'allèle A2 ou B\n",
    "int T = 20; //le nbr de générations\n",
    "float wAA,wAB,wBB = 1; 1; 0.5; //valeurs sélectives des génotypes AA, AB et BB\n",
    "\n",
    "}"
   ]
  },
  {
   "cell_type": "code",
   "execution_count": 4,
   "id": "83500b93-d2ba-498c-a8cf-0fd6a59ad532",
   "metadata": {},
   "outputs": [],
   "source": [
    "/** We implement a bernoulli function.\n",
    "@param: p is the probability of sucess\n",
    "@return: true if sucess OR false if fail\n",
    "**/    \n",
    "bool bernoulli(float p) {\n",
    "    // uniform generation of a float between 0 and 1\n",
    "    float random = static_cast <float> (rand()) / static_cast <float> (RAND_MAX); \n",
    "    \n",
    "    if (random <= p) {\n",
    "        return true;\n",
    "    }\n",
    "    return false;\n",
    "}\n"
   ]
  },
  {
   "cell_type": "code",
   "execution_count": 5,
   "id": "8f1e103c-03a9-4782-877c-bacaa9a2fa81",
   "metadata": {},
   "outputs": [],
   "source": [
    "/** implementation of binomial law\n",
    "@param: N the number of identical Bernoulli experiments\n",
    "        p the probability of sucess\n",
    "@return: a N-dimension vector containing the results, true if sucess OR false if fail\n",
    "**/\n",
    "\n",
    "// TO CHANGE vector<bool>\n",
    "auto binomial(int N, float p) {\n",
    "    vector<bool> results;\n",
    "    for (int i = 0; i < N; i++) \n",
    "        results.push_back(bernoulli(p));\n",
    "    \n",
    "    return results;\n",
    "}"
   ]
  },
  {
   "cell_type": "code",
   "execution_count": 6,
   "id": "b265a24a-456a-4f04-ba53-423f3a7c63f6",
   "metadata": {},
   "outputs": [],
   "source": [
    "/**...\n",
    "@param: N the population size\n",
    "        p the frequency of allele A\n",
    "@return: three dimensional vector containing three floats. They correspond to the genotypics frequencies\n",
    "**/\n",
    "\n",
    "// Rapport : justifier le choix des deux vecteurs / deux binomiales\n",
    "// !!! to change vector<float>\n",
    "auto reproduction(int N, float p) {\n",
    "    // TO CHANGE vector<vector<bool>>\n",
    "    //vector<vector<int>>t;\n",
    "    vector<vector<bool>> genotypes = {binomial(N, p), binomial(N, p)};\n",
    "    vector<float> freq_geno = {0, 0, 0};\n",
    "    for (int i = 0; i < N; i++)\n",
    "        freq_geno[int(genotypes[0][i]) + int(genotypes[1][i])]++;\n",
    "\n",
    "    for (int i = 0; i < freq_geno.size(); i++)\n",
    "        freq_geno[i] /= N;\n",
    "    return freq_geno;\n",
    "}"
   ]
  },
  {
   "cell_type": "code",
   "execution_count": 7,
   "id": "0c3e050d-eb48-47a0-b881-2264e4333ed7",
   "metadata": {},
   "outputs": [
    {
     "data": {
      "text/plain": [
       "{ false, false, false, false, false, false, false, false, false, false }\n",
       "type: std::vector<bool, std::allocator<bool> >"
      ]
     },
     "execution_count": 7,
     "metadata": {},
     "output_type": "execute_result"
    }
   ],
   "source": [
    "binomial(10,0.1)"
   ]
  },
  {
   "cell_type": "code",
   "execution_count": 10,
   "id": "4b7f2a09-6ff3-4087-9166-1797885958b5",
   "metadata": {},
   "outputs": [
    {
     "name": "stdout",
     "output_type": "stream",
     "text": [
      "2.98023e-08\n"
     ]
    },
    {
     "data": {
      "text/plain": [
       "{ 0.600387f, 0.399613f }\n",
       "type: std::vector<float, std::allocator<float> >"
      ]
     },
     "execution_count": 10,
     "metadata": {},
     "output_type": "execute_result"
    }
   ],
   "source": [
    "selection(reproduction(100000,0.5), {1, 0.5, 0.5})"
   ]
  },
  {
   "cell_type": "code",
   "execution_count": 9,
   "id": "342c92a4-88f0-4d9b-86a5-dc7b06577f60",
   "metadata": {},
   "outputs": [],
   "source": [
    "// TO CHANGE vector<float>\n",
    "auto selection(vector<float> freq_geno, vector<float> w) {\n",
    "    \n",
    "    float wAvg = w[0]*freq_geno[0] + w[1]*freq_geno[1] + w[2]*freq_geno[2];\n",
    "    vector<float> freq_all = {0, 0};\n",
    "\n",
    "    freq_all[0] = (w[0]*freq_geno[0] + w[1]*freq_geno[1]*0.5) / wAvg; \n",
    "    freq_all[1] = (0.5*w[1]*freq_geno[1] + w[2]*freq_geno[2]) / wAvg;\n",
    "    cout<< 1 - freq_all[0] - freq_all[1] << endl;\n",
    "    return freq_all;\n",
    "    \n",
    "}"
   ]
  },
  {
   "cell_type": "code",
   "execution_count": null,
   "id": "ae8dbd07-40c2-4171-a814-a7e8c64b9172",
   "metadata": {},
   "outputs": [],
   "source": []
  }
 ],
 "metadata": {
  "kernelspec": {
   "display_name": "C++17",
   "language": "C++17",
   "name": "xcpp17"
  },
  "language_info": {
   "codemirror_mode": "text/x-c++src",
   "file_extension": ".cpp",
   "mimetype": "text/x-c++src",
   "name": "c++",
   "version": "17"
  }
 },
 "nbformat": 4,
 "nbformat_minor": 5
}
