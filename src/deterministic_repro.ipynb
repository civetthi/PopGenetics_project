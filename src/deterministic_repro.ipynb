{
 "cells": [
  {
   "cell_type": "code",
   "execution_count": null,
   "id": "1fcf4a31-9fe1-4c9c-a068-907993a5447a",
   "metadata": {},
   "outputs": [],
   "source": [
    "#include <vector>\n",
    "#include \"math.h\"\n",
    "\n",
    "/** Calculation of the allele frequences after random mating\n",
    "@param: p the frequency of allele A\n",
    "@return: a three dimensional vector containing three floats. They correspond to the genotypics frequencies. AA, Aa and aa in that order.\n",
    "**/\n",
    "\n",
    "std::vector<float> deterministic_repro(float p){ \n",
    "    // Calculating the frequencies of each genotype for the next generation\n",
    "    // for each genotypes we get two allele.\n",
    "    // We used the Hardy Weinberg proportion\n",
    "    std::vector<float> freq_geno = {0, 0, 0};\n",
    "    freq_geno[0] = p*p;                   //Geno descendants AA avec freq de l'allele A chez le parent = p \n",
    "    freq_geno[1] = 2*p*(1-p);             //Geno descendants Aa \n",
    "    freq_geno[2] = (1-p)*(1-p);           //Geno descendants aa \n",
    "    \n",
    "    return freq_geno;\n",
    "}"
   ]
  },
  {
   "cell_type": "code",
   "execution_count": null,
   "id": "db05e058-4d29-42e3-ad50-19fa9ad51415",
   "metadata": {},
   "outputs": [],
   "source": [
    "deterministic_repro(0,5)"
   ]
  },
  {
   "cell_type": "code",
   "execution_count": null,
   "id": "67d33eb4-6a75-4051-8917-4ecfa24e786f",
   "metadata": {},
   "outputs": [],
   "source": []
  }
 ],
 "metadata": {
  "kernelspec": {
   "display_name": "C++17",
   "language": "C++17",
   "name": "xcpp17"
  },
  "language_info": {
   "codemirror_mode": "text/x-c++src",
   "file_extension": ".cpp",
   "mimetype": "text/x-c++src",
   "name": "c++",
   "version": "17"
  }
 },
 "nbformat": 4,
 "nbformat_minor": 5
}
